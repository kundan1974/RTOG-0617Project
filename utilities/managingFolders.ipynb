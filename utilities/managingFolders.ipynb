{
 "cells": [
  {
   "cell_type": "code",
   "execution_count": 1,
   "metadata": {},
   "outputs": [],
   "source": [
    "import os\n",
    "import tkinter\n",
    "from tkinter import filedialog\n",
    "import shutil\n"
   ]
  },
  {
   "cell_type": "code",
   "execution_count": 4,
   "metadata": {},
   "outputs": [
    {
     "name": "stdout",
     "output_type": "stream",
     "text": [
      "You choose '/Users/chufal/Desktop/TestOutput_1' as your NIFTI mask and images directory(Source Directory)\n",
      "You choose '/Users/chufal/Desktop/images_with_mask' as your target directory to store images without mask(Target Directory)\n"
     ]
    }
   ],
   "source": [
    "# Choose you NIFTI images and mask directory\n",
    "root = tkinter.Tk()\n",
    "root.withdraw() #use to hide tkinter window\n",
    "currdir = os.getcwd()\n",
    "SourceDir = filedialog.askdirectory(parent=root, initialdir=currdir, title='Please select a directory with NIFTI Images and Masks')\n",
    "if len(SourceDir) > 0:\n",
    "    print (f\"You choose '{SourceDir}' as your NIFTI mask and images directory(Source Directory)\")\n",
    "\n",
    "# Choose your output folder for saving images and masks\n",
    "TargetDir = filedialog.askdirectory(parent=root, initialdir=currdir, title='Choose Output folder for saving NIFTI images without Masks')\n",
    "if len(TargetDir) > 0:\n",
    "    print (f\"You choose '{TargetDir}' as your target directory to store images without mask(Target Directory)\")"
   ]
  },
  {
   "cell_type": "code",
   "execution_count": 7,
   "metadata": {},
   "outputs": [],
   "source": [
    "list_images = os.listdir(os.path.join(SourceDir,os.listdir(SourceDir)[1]))\n",
    "list_masks = os.listdir(os.path.join(SourceDir,os.listdir(SourceDir)[2]))\n",
    "list_images.sort()\n",
    "list_masks.sort()"
   ]
  },
  {
   "cell_type": "code",
   "execution_count": 10,
   "metadata": {},
   "outputs": [
    {
     "name": "stdout",
     "output_type": "stream",
     "text": [
      "/Users/chufal/Desktop/TestOutput_1/images/259694_image.nii.gz moved to /Users/chufal/Desktop/images_with_mask\n",
      "/Users/chufal/Desktop/TestOutput_1/images/292370_image.nii.gz moved to /Users/chufal/Desktop/images_with_mask\n",
      "/Users/chufal/Desktop/TestOutput_1/images/305105_image.nii.gz moved to /Users/chufal/Desktop/images_with_mask\n",
      "/Users/chufal/Desktop/TestOutput_1/images/308175_image.nii.gz moved to /Users/chufal/Desktop/images_with_mask\n",
      "/Users/chufal/Desktop/TestOutput_1/images/309598_image.nii.gz moved to /Users/chufal/Desktop/images_with_mask\n",
      "/Users/chufal/Desktop/TestOutput_1/images/313260_image.nii.gz moved to /Users/chufal/Desktop/images_with_mask\n",
      "/Users/chufal/Desktop/TestOutput_1/images/342808_image.nii.gz moved to /Users/chufal/Desktop/images_with_mask\n",
      "/Users/chufal/Desktop/TestOutput_1/images/349454_image.nii.gz moved to /Users/chufal/Desktop/images_with_mask\n",
      "/Users/chufal/Desktop/TestOutput_1/images/355467_image.nii.gz moved to /Users/chufal/Desktop/images_with_mask\n",
      "/Users/chufal/Desktop/TestOutput_1/images/359104_image.nii.gz moved to /Users/chufal/Desktop/images_with_mask\n",
      "/Users/chufal/Desktop/TestOutput_1/images/368409_image.nii.gz moved to /Users/chufal/Desktop/images_with_mask\n",
      "/Users/chufal/Desktop/TestOutput_1/images/380962_image.nii.gz moved to /Users/chufal/Desktop/images_with_mask\n",
      "/Users/chufal/Desktop/TestOutput_1/images/381906_image.nii.gz moved to /Users/chufal/Desktop/images_with_mask\n",
      "/Users/chufal/Desktop/TestOutput_1/images/385185_image.nii.gz moved to /Users/chufal/Desktop/images_with_mask\n",
      "/Users/chufal/Desktop/TestOutput_1/images/385612_image.nii.gz moved to /Users/chufal/Desktop/images_with_mask\n"
     ]
    },
    {
     "data": {
      "text/plain": [
       "'/Users/chufal/Desktop/TestOutput_1/images_with_mask'"
      ]
     },
     "execution_count": 10,
     "metadata": {},
     "output_type": "execute_result"
    }
   ],
   "source": [
    "Path2ImagesWithMask = []\n",
    "count = 0\n",
    "for i in range(0,len(list_images)):\n",
    "    for j in range(0,len(list_masks)):\n",
    "        if list_images[i][0:6] == list_masks[j][0:6]:\n",
    "            Path2ImagesWithMask.append(os.path.join(SourceDir,\"images\",list_images[i]))\n",
    "            count= count+1\n",
    "for num in range(0,len(Path2ImagesWithMask)):\n",
    "    if len(Path2ImagesWithMask[num]) > 55:\n",
    "        shutil.move(Path2ImagesWithMask[num],TargetDir)\n",
    "        print(f\"{Path2ImagesWithMask[num]} moved to {TargetDir}\")\n",
    "os.rename(os.path.join(SourceDir,\"images\"),os.path.join(SourceDir,\"images_with_nomask\"))\n",
    "shutil.move(TargetDir,SourceDir)"
   ]
  }
 ],
 "metadata": {
  "kernelspec": {
   "display_name": "Python 3",
   "language": "python",
   "name": "python3"
  },
  "language_info": {
   "codemirror_mode": {
    "name": "ipython",
    "version": 3
   },
   "file_extension": ".py",
   "mimetype": "text/x-python",
   "name": "python",
   "nbconvert_exporter": "python",
   "pygments_lexer": "ipython3",
   "version": "3.7.1"
  }
 },
 "nbformat": 4,
 "nbformat_minor": 4
}
