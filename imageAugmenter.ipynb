{
 "cells": [
  {
   "cell_type": "code",
   "execution_count": 5,
   "metadata": {},
   "outputs": [],
   "source": [
    "import numpy as np\n",
    "import pandas as pd\n",
    "import glob\n",
    "import os\n",
    "import matplotlib.pyplot as plt\n",
    "import tensorflow as tf\n",
    "from tensorflow.keras.preprocessing.image import ImageDataGenerator\n",
    "import tkinter as tk\n",
    "from tkinter import filedialog as fd\n",
    "%matplotlib inline"
   ]
  },
  {
   "cell_type": "code",
   "execution_count": 6,
   "metadata": {},
   "outputs": [],
   "source": [
    "image_gen = ImageDataGenerator(featurewise_center=True,\n",
    "                               samplewise_center=False,\n",
    "                               featurewise_std_normalization=False,\n",
    "                               samplewise_std_normalization=False,\n",
    "                               zca_whitening=False,\n",
    "                               zca_epsilon=1e-06,\n",
    "                               rotation_range=0.2,\n",
    "                               width_shift_range=0.1,\n",
    "                               height_shift_range=0.1,\n",
    "                               brightness_range=None,\n",
    "                               shear_range=0.1,\n",
    "                               zoom_range=0.2,\n",
    "                               channel_shift_range=0.0,\n",
    "                               fill_mode='nearest',\n",
    "                               cval=0.0,\n",
    "                               horizontal_flip=True,\n",
    "                               vertical_flip=True,\n",
    "                               rescale=0.1,\n",
    "                               preprocessing_function=None,\n",
    "                               data_format=None,\n",
    "                               validation_split=0.0,\n",
    "                               dtype=None,\n",
    "                              )"
   ]
  },
  {
   "cell_type": "code",
   "execution_count": 37,
   "metadata": {},
   "outputs": [],
   "source": [
    "root = tk.Tk()\n",
    "root.withdraw()\n",
    "target_dir = fd.askdirectory() # open file dialogue box"
   ]
  },
  {
   "cell_type": "code",
   "execution_count": 38,
   "metadata": {},
   "outputs": [
    {
     "data": {
      "text/plain": [
       "'/media/airadiomicslab/WINDOWS/RTOG_0617_DATA/NSCLC_0617_numpyImages/processed128_18M_HD/alivex100'"
      ]
     },
     "execution_count": 38,
     "metadata": {},
     "output_type": "execute_result"
    }
   ],
   "source": [
    "target_dir"
   ]
  },
  {
   "cell_type": "code",
   "execution_count": 35,
   "metadata": {},
   "outputs": [],
   "source": [
    "# generating random CTvolume for one patient\n",
    "def imageGen(targer_dir,aug_size=5):\n",
    "    '''\n",
    "    This is random image generator and genrates number of specified augmented images\n",
    "    \n",
    "    Parameters:\n",
    "    target_dir - is the directory containing all the files which needs to be augmented\n",
    "    aug_size -   is the integer which defines how many fols each image should be augmented.Default is 5\n",
    "    \n",
    "    '''\n",
    "    files = os.listdir(target_dir)\n",
    "    for num,file in enumerate(files):\n",
    "        if file[6:] == '.npy':\n",
    "            img_path = os.path.join(target_dir,file) \n",
    "            target_img = np.load(img_path)\n",
    "            for i in range(0,aug_size):\n",
    "                aug_image = image_gen.random_transform(target_img)\n",
    "                filename2save = os.path.join(target_dir,'Aug'+ str(i)+'_'+file)\n",
    "                np.save(filename2save,aug_image)\n",
    "    print(f'\\n{num} images in folder: {target_dir} were augmented {i+1} times\\n')\n",
    "    print(f'Now Total images are {(num*(i+1))+num}\\n')"
   ]
  },
  {
   "cell_type": "code",
   "execution_count": 39,
   "metadata": {},
   "outputs": [
    {
     "name": "stdout",
     "output_type": "stream",
     "text": [
      "\n",
      "53 images in folder: /media/airadiomicslab/WINDOWS/RTOG_0617_DATA/NSCLC_0617_numpyImages/processed128_18M_HD/alivex100 were augmented 100 times\n",
      "\n",
      "Now Total images are 5353\n",
      "\n"
     ]
    }
   ],
   "source": [
    "imageGen(target_dir,aug_size=100)"
   ]
  },
  {
   "cell_type": "code",
   "execution_count": null,
   "metadata": {},
   "outputs": [],
   "source": [
    "check_img_path = os.path.join(target_dir,os.listdir(target_dir)[2567])"
   ]
  },
  {
   "cell_type": "code",
   "execution_count": null,
   "metadata": {},
   "outputs": [],
   "source": [
    "# Visualizing stack of images\n",
    "imgs_to_process = np.load(check_img_path)\n",
    "def sample_stack(stack, rows=8, cols=8, start_with=1, show_every=1):\n",
    "    fig,ax = plt.subplots(rows,cols,figsize=[12,12])\n",
    "    for i in range(rows*cols):\n",
    "        ind = start_with + i*show_every\n",
    "        ax[int(i/rows),int(i % rows)].set_title('slice %d' % ind)\n",
    "        ax[int(i/rows),int(i % rows)].imshow(stack[i],cmap='gray')\n",
    "        ax[int(i/rows),int(i % rows)].axis('off')\n",
    "    plt.show()\n",
    "\n",
    "sample_stack(imgs_to_process)"
   ]
  },
  {
   "cell_type": "code",
   "execution_count": null,
   "metadata": {},
   "outputs": [],
   "source": []
  }
 ],
 "metadata": {
  "kernelspec": {
   "display_name": "Python 3",
   "language": "python",
   "name": "python3"
  },
  "language_info": {
   "codemirror_mode": {
    "name": "ipython",
    "version": 3
   },
   "file_extension": ".py",
   "mimetype": "text/x-python",
   "name": "python",
   "nbconvert_exporter": "python",
   "pygments_lexer": "ipython3",
   "version": "3.7.7"
  }
 },
 "nbformat": 4,
 "nbformat_minor": 4
}
