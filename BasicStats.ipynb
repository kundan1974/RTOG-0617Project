{
 "cells": [
  {
   "cell_type": "markdown",
   "metadata": {},
   "source": [
    "# RTOG-0617 Trial - Analysis\n",
    "\n",
    "        * Loading dtatset\n",
    "        * preprocessing dataset"
   ]
  },
  {
   "cell_type": "code",
   "execution_count": null,
   "metadata": {},
   "outputs": [],
   "source": [
    "import pandas as pd\n",
    "import numpy as np\n",
    "from scipy import stats\n",
    "from plotly.offline import *\n",
    "\n",
    "init_notebook_mode()\n",
    "\n",
    "import plotly.graph_objs as go\n",
    "import plotly.figure_factory as ff\n",
    "import plotly.express as px\n",
    "import plotly.io as pio\n",
    "pio.templates.default = 'plotly_white'\n",
    "import seaborn as sns\n",
    "import matplotlib.pyplot as plt\n",
    "import scipy as sp\n",
    "import statsmodels.api as sm\n",
    "%matplotlib inline"
   ]
  },
  {
   "cell_type": "markdown",
   "metadata": {},
   "source": [
    "# Variable\n",
    "### analysis_inclusion \n",
    "    0=Excluded, 1=Included\n",
    "### age\n",
    "    Age at study entry (years)\n",
    "### gender \n",
    "    1=Male 2=Female\n",
    "### ethnicity \n",
    "    1=Hispanic or Latino 2=Not Hispanic or Latino 9=Unknown\n",
    "### Assigned treatment arm\n",
    "    60 Gy, no cetuximab = 1, 74 Gy, no cetuximab = 2, 60 Gy + cetuximab = 3, 74 Gy + cetuximab = 4\n",
    "    Note: Analyses of 60 Gy vs 74 Gy compare arms 1+3 vs 2+4. Analyses of Cetuximab vs No cetuximab compare arms \n",
    "    1+2 vs 3+4.\n",
    "### race\n",
    "    1=American Indian/Alaskan Native 2=Asian 3=Black or African American 4=Native Hawaiian/Other Pacific Islander\n",
    "    5=White 9=Unknown\n",
    "### zubrod\n",
    "    0=Normal activity 1=Symptoms, but nearly fully ambulatory\n",
    "### histology\n",
    "    1=Squamous cell carcinoma 2=Adenocarcinoma 3=Large cell undifferentiated 5=Non-small cell lung cancer NOS\n",
    "### nonsquam_squam\n",
    "    1=Non-squamous histology 2=Squamous histology\n",
    "### ajcc_stage_grp\n",
    "    1=IIIA, or N2 with an undetectable primary, 2=IIIB, or N3 with an undetectable primary\n",
    "### pet_staging\n",
    "    1=No use of PET in staging 2=PET used in staging\n",
    "### rt_technique\n",
    "    1=3D-CRT, 2=IMRT\n",
    "### has_egfr_hscore\n",
    "    0=No H-Score (no tissue, insufficient tissue), 1=H-Score able to be determined\n",
    "### egfr_hscore_200\n",
    "    1=H-Score < 200, 2=H-Score ≥ 200\n",
    "    Note: Blank for patients with has_egfr_hscore = 0\n",
    "### smoke_hx\n",
    "    1=Non-smoker (<100 cigarettes in lifetime), 2=Former light smoker (≤10 pack years and quit ≥1 year ago),\n",
    "    3=Former heavy smoker (>10 pack years), 4=Current smoker (quit <1 year ago or currently smoke), 9=Unknown\n",
    "### rt_dose\n",
    "    1=Received assigned dose (60 Gy/74 Gy), 2=Received less than assigned dose 3=Received more than assigned dose\n",
    "    Note: Blank for patients not receiving RT\n",
    "### overall_rt_review\n",
    "    1=Per protocol, 2=Acceptable variation 3=Unacceptable deviation 5=Incomplete RT – Death during RT 6=Incomplete\n",
    "    RT – Progression 7=Incomplete RT – Refusal, 8=No RT given, 9=Not evaluable\n",
    "### ptv_review\n",
    "    1=Per protocol, 2=Acceptable variation 3=Unacceptable deviation, 9=Not evaluable,\n",
    "    Note: Blank indicates missing due to lack of contour to review\n",
    "### Dmin_PTV_CTV_MARGIN\n",
    "    Minimum margin between PTV and CTV (mm) \n",
    "### Dmax_PTV_CTV_MARGIN\n",
    "    Maximum margin between PTV and CTV (mm)\n",
    "### Dmean_PTV_CTV_MARGIN\n",
    "    Mean margin between PTV and CTV (mm)\n",
    "### rt_compliance_ptv90\n",
    "    0= <90% of PTV covered by at least 95% of prescription dose\n",
    "    1= ≥90% of PTV covered by at least 95% of prescription dose\n",
    "### grade3_esophagitis\n",
    "    0=Grade 3+ esophagitis not reported, 1=Grade 3+ esophagitis reported\n",
    "### survival_status\n",
    "    0=Alive 1=Dead\n",
    "    Time since randomization to death/last follow-up (months)\n",
    "### cod\n",
    "    1=Lung cancer under study 2=Second primary 3=Protocol treatment 4=Other cause 9=Unknown\n",
    "    Note: This will be blank for patients who are alive.\n",
    "### local_failure\n",
    "    0=Alive at last follow-up without report of local failure at any time, 1=Local failure,\n",
    "    2=Dead without report of local failure at any time\n",
    "    Time since randomization to local failure/date of death or last-follow-up if no failure (months)\n",
    "### distant_failure\n",
    "    0=Alive at last follow-up without report of distant failure at any time, 1=Distant failure, 2=Dead without\n",
    "    report of distant failure at any time\n",
    "    Time since randomization to distant failure/date of death or last-follow-up if no failure (months)\n",
    "### progression_free_survival\n",
    "    0=Alive without progression 1=Progressed or death due to any cause\n",
    "    Time since randomization to progression or date of death, or date of last- follow-up if alive without\n",
    "    progression (months)\n",
    "### lost_to_followup\n",
    "    0=Not lost to follow-up 1=Lost to follow-up"
   ]
  },
  {
   "cell_type": "code",
   "execution_count": null,
   "metadata": {},
   "outputs": [],
   "source": [
    "df = pd.read_csv(\"./datasets_0617/1D1-Dataset.csv\")"
   ]
  },
  {
   "cell_type": "code",
   "execution_count": null,
   "metadata": {},
   "outputs": [],
   "source": [
    "df.head()"
   ]
  },
  {
   "cell_type": "code",
   "execution_count": null,
   "metadata": {},
   "outputs": [],
   "source": [
    "df.shape"
   ]
  },
  {
   "cell_type": "code",
   "execution_count": null,
   "metadata": {},
   "outputs": [],
   "source": [
    "df.columns"
   ]
  },
  {
   "cell_type": "code",
   "execution_count": null,
   "metadata": {},
   "outputs": [],
   "source": [
    "df.age"
   ]
  },
  {
   "cell_type": "code",
   "execution_count": null,
   "metadata": {},
   "outputs": [],
   "source": [
    "newdf4age = df[(df.arm == 1) & (df['age'].notnull())] # selecting arm 1 with cases having non null values for age"
   ]
  },
  {
   "cell_type": "code",
   "execution_count": null,
   "metadata": {},
   "outputs": [],
   "source": [
    "newdf4age.head(20)"
   ]
  },
  {
   "cell_type": "code",
   "execution_count": null,
   "metadata": {},
   "outputs": [],
   "source": [
    "trace0 = go.Scatter(x = newdf4age.age, y = newdf4age.survival_months,\n",
    "                   mode='markers',marker = {\"size\":10})\n",
    "data=[trace0]\n",
    "\n",
    "iplot({\"data\":data})"
   ]
  },
  {
   "cell_type": "code",
   "execution_count": null,
   "metadata": {},
   "outputs": [],
   "source": [
    "df.dtypes"
   ]
  },
  {
   "cell_type": "code",
   "execution_count": null,
   "metadata": {},
   "outputs": [],
   "source": [
    "df.arm.value_counts()"
   ]
  },
  {
   "cell_type": "code",
   "execution_count": null,
   "metadata": {},
   "outputs": [],
   "source": [
    "df_egfr=df[df['egfr_hscore_200'].notnull()]"
   ]
  },
  {
   "cell_type": "code",
   "execution_count": null,
   "metadata": {},
   "outputs": [],
   "source": [
    "df_egfr[df['egfr_hscore_200']==2]"
   ]
  },
  {
   "cell_type": "code",
   "execution_count": null,
   "metadata": {},
   "outputs": [],
   "source": [
    "df.age.describe()"
   ]
  },
  {
   "cell_type": "code",
   "execution_count": null,
   "metadata": {},
   "outputs": [],
   "source": []
  },
  {
   "cell_type": "code",
   "execution_count": null,
   "metadata": {},
   "outputs": [],
   "source": [
    "df = df[df.analysis_inclusion==1]"
   ]
  },
  {
   "cell_type": "code",
   "execution_count": null,
   "metadata": {},
   "outputs": [],
   "source": [
    "df.v95_ptv.describe"
   ]
  },
  {
   "cell_type": "code",
   "execution_count": null,
   "metadata": {},
   "outputs": [],
   "source": [
    "df.v95_ptv.max()"
   ]
  },
  {
   "cell_type": "code",
   "execution_count": null,
   "metadata": {},
   "outputs": [],
   "source": [
    "df.egfr_hscore_200.value_counts()"
   ]
  },
  {
   "cell_type": "code",
   "execution_count": null,
   "metadata": {},
   "outputs": [],
   "source": [
    "df[df.egfr_hscore_200 ==1].v95_ptv.mean()"
   ]
  },
  {
   "cell_type": "code",
   "execution_count": null,
   "metadata": {},
   "outputs": [],
   "source": [
    "df[df.egfr_hscore_200 ==2].v95_ptv.mean()"
   ]
  },
  {
   "cell_type": "code",
   "execution_count": null,
   "metadata": {},
   "outputs": [],
   "source": [
    "np.percentile(df.v95_ptv.values, [0,25,50,75,100])"
   ]
  },
  {
   "cell_type": "code",
   "execution_count": null,
   "metadata": {},
   "outputs": [],
   "source": [
    "df.v95_ptv.notnull().describe()"
   ]
  },
  {
   "cell_type": "code",
   "execution_count": null,
   "metadata": {},
   "outputs": [],
   "source": [
    "df['v95_ptv'] = df['v95_ptv'].astype('str').astype('float')"
   ]
  },
  {
   "cell_type": "code",
   "execution_count": null,
   "metadata": {},
   "outputs": [],
   "source": [
    "df_v95 = df[df.v95_ptv.notnull()]"
   ]
  },
  {
   "cell_type": "code",
   "execution_count": null,
   "metadata": {},
   "outputs": [],
   "source": [
    "df_v95.v95_ptv.notnull().describe()"
   ]
  },
  {
   "cell_type": "code",
   "execution_count": null,
   "metadata": {},
   "outputs": [],
   "source": [
    "np.percentile(df_v95.v95_ptv.values, [0,25,50,75,100])"
   ]
  },
  {
   "cell_type": "code",
   "execution_count": null,
   "metadata": {},
   "outputs": [],
   "source": [
    "trace0 = go.Scatter(y = df_v95.volume_ptv, \n",
    "                    x = df_v95.survival_months,\n",
    "                   mode='markers',\n",
    "                   marker = {'size':10,'color':'rgba(255,70,0,0.5)'},\n",
    "                   name = 'Scatter Plot')\n",
    "data = [trace0]\n",
    "\n",
    "iplot({'data':data})"
   ]
  },
  {
   "cell_type": "code",
   "execution_count": null,
   "metadata": {},
   "outputs": [],
   "source": [
    "trace0 = go.Scatter(x = df[(df['arm'] == 1) | (df['arm'] == 3)]['volume_ptv'],\n",
    "                    y = df[(df['arm'] == 1) | (df['arm'] == 3)]['survival_months'],\n",
    "                   mode='markers',\n",
    "                   marker = {'size':10,'color':'rgba(255,70,0,0.5)'},\n",
    "                   name = 'Standard Dose')\n",
    "\n",
    "trace1 = go.Scatter(x = df[(df['arm'] == 2) | (df['arm'] == 4)]['volume_ptv'],\n",
    "                    y = df[(df['arm'] == 2) | (df['arm'] == 4)]['survival_months'],\n",
    "                   mode='markers',\n",
    "                   marker = {'size':10,'color':'rgba(0,190,255,0.5)'},\n",
    "                   name = 'High Dose')\n",
    "\n",
    "data = [trace0,trace1]\n",
    "\n",
    "layout = {'title':'Correlation between PTV volume and Survival in months',\n",
    "         'xaxis':{'title':'Volume of PTV',\n",
    "                 'zeroline':False},\n",
    "         'yaxis':{'title':'Survival in Months',\n",
    "                 'zeroline':False}\n",
    "         }\n",
    "\n",
    "iplot({'data':data,'layout':layout})"
   ]
  },
  {
   "cell_type": "code",
   "execution_count": null,
   "metadata": {},
   "outputs": [],
   "source": [
    "trace0 = go.Scatter(x = df[(df['arm'] == 1) | (df['arm'] == 3)]['volume_ptv'],\n",
    "                    y = df[(df['arm'] == 1) | (df['arm'] == 3)]['v20_lung'],\n",
    "                   mode='markers',\n",
    "                   marker = {'size':10,'color':'rgba(255,70,0,0.5)'},\n",
    "                   name = 'Standard Dose')\n",
    "\n",
    "trace1 = go.Scatter(x = df[(df['arm'] == 2) | (df['arm'] == 4)]['volume_ptv'],\n",
    "                    y = df[(df['arm'] == 2) | (df['arm'] == 4)]['v20_lung'],\n",
    "                   mode='markers',\n",
    "                   marker = {'size':10,'color':'rgba(0,190,255,0.5)'},\n",
    "                   name = 'High Dose')\n",
    "\n",
    "data = [trace0,trace1]\n",
    "\n",
    "layout = {'title':'Correlation between PTV volume and Survival in months',\n",
    "         'xaxis':{'title':'Volume of PTV',\n",
    "                 'zeroline':False},\n",
    "         'yaxis':{'title':'Lung Doses V20Gy',\n",
    "                 'zeroline':False}\n",
    "         }\n",
    "\n",
    "iplot({'data':data,'layout':layout})"
   ]
  },
  {
   "cell_type": "code",
   "execution_count": null,
   "metadata": {},
   "outputs": [],
   "source": [
    "df.columns"
   ]
  },
  {
   "cell_type": "code",
   "execution_count": null,
   "metadata": {},
   "outputs": [],
   "source": [
    "trace0 = go.Scatter(x = df[(df['arm'] == 1) | (df['arm'] == 3)]['survival_months'],\n",
    "                    y = df[(df['arm'] == 1) | (df['arm'] == 3)]['v30_heart'],\n",
    "                   mode='markers',\n",
    "                   marker = {'size':10,'color':'rgba(255,70,0,0.5)'},\n",
    "                   name = 'Standard Dose')\n",
    "\n",
    "trace1 = go.Scatter(x = df[(df['arm'] == 2) | (df['arm'] == 4)]['survival_months'],\n",
    "                    y = df[(df['arm'] == 2) | (df['arm'] == 4)]['v30_heart'],\n",
    "                   mode='markers',\n",
    "                   marker = {'size':10,'color':'rgba(0,190,255,0.5)'},\n",
    "                   name = 'High Dose')\n",
    "\n",
    "data = [trace0,trace1]\n",
    "\n",
    "layout = {'title':'Correlation between PTV volume and Survival in months',\n",
    "         'xaxis':{'title':'Survival in Months',\n",
    "                 'zeroline':False},\n",
    "         'yaxis':{'title':'Heart Doses V30Gy',\n",
    "                 'zeroline':False}\n",
    "         }\n",
    "\n",
    "iplot({'data':data,'layout':layout})"
   ]
  },
  {
   "cell_type": "code",
   "execution_count": null,
   "metadata": {},
   "outputs": [],
   "source": [
    "trace1 = go.Scatter(x = df.survival_months,\n",
    "                    y = df.v30_heart,\n",
    "                   mode='markers',\n",
    "                   marker = {'size':10,\n",
    "                             'color':df.volume_ptv,\n",
    "                            'colorscale':'Portland',\n",
    "                            'showscale':True})\n",
    "\n",
    "data = [trace0]\n",
    "\n",
    "iplot({'data':data})\n"
   ]
  },
  {
   "cell_type": "code",
   "execution_count": null,
   "metadata": {},
   "outputs": [],
   "source": [
    "df_1.survival_months.notnull().value_counts()"
   ]
  },
  {
   "cell_type": "code",
   "execution_count": null,
   "metadata": {},
   "outputs": [],
   "source": [
    "df_1 = df[(df.volume_gtv.notnull()) & (df.v30_heart.notnull())]"
   ]
  },
  {
   "cell_type": "code",
   "execution_count": null,
   "metadata": {},
   "outputs": [],
   "source": [
    "trace1 = go.Scatter(x = df_1['survival_months'],\n",
    "                    y = df_1['v30_heart'],\n",
    "                    mode='markers',\n",
    "                    marker = {'size':np.ceil(df_1.volume_gtv)}\n",
    "                    )\n",
    "\n",
    "data = [trace0]\n",
    "\n",
    "iplot({'data':data})"
   ]
  },
  {
   "cell_type": "code",
   "execution_count": null,
   "metadata": {},
   "outputs": [],
   "source": [
    "trace0 = go.Box(x=df_1.arm,\n",
    "               y=df.v30_heart,\n",
    "               boxpoints='all',\n",
    "               jitter=0.3,\n",
    "               pointpos=-1.5,\n",
    "               boxmean='sd')\n",
    "\n",
    "data = [trace0]\n",
    "\n",
    "iplot({'data':data})"
   ]
  },
  {
   "cell_type": "code",
   "execution_count": null,
   "metadata": {},
   "outputs": [],
   "source": [
    "trace0 = go.Box(x = df_1[df_1['arm']==1]['arm'],\n",
    "            y=df_1.v30_heart,\n",
    "            boxpoints='all',\n",
    "            jitter=0.3,\n",
    "            pointpos=-1.5,\n",
    "            boxmean='sd')\n",
    "trace1 = go.Box(x = df_1[df_1['arm']==2]['arm'],\n",
    "            y=df_1.v30_heart,\n",
    "            boxpoints='all',\n",
    "            jitter=0.3,\n",
    "            pointpos=-1.5,\n",
    "            boxmean='sd')\n",
    "trace2 = go.Box(x = df_1[df_1['arm']==3]['arm'],\n",
    "            y=df_1.v30_heart,\n",
    "            boxpoints='all',\n",
    "            jitter=0.3,\n",
    "            pointpos=-1.5,\n",
    "            boxmean='sd')\n",
    "trace3 = go.Box(x = df_1[df_1['arm']==4]['arm'],\n",
    "            y=df_1.v30_heart,\n",
    "            boxpoints='all',\n",
    "            jitter=0.3,\n",
    "            pointpos=-1.5,\n",
    "            boxmean='sd')\n",
    "\n",
    "\n",
    "layout = {'title':'V30 Heart Doses in different arms',\n",
    "         'xaxis':{'title':'Study Arms',\n",
    "                 'zeroline':False},\n",
    "         'yaxis':{'title':'Heart Doses V30Gy',\n",
    "                 'zeroline':False}\n",
    "         }\n",
    "\n",
    "\n",
    "\n",
    "data = [trace0,trace1,trace2,trace3]\n",
    "\n",
    "iplot({'data':data,'layout':layout})"
   ]
  },
  {
   "cell_type": "code",
   "execution_count": null,
   "metadata": {},
   "outputs": [],
   "source": [
    "trace0 = go.Histogram(x = df_1.volume_gtv)\n",
    "\n",
    "data = [trace0]\n",
    "\n",
    "iplot({'data':data})"
   ]
  },
  {
   "cell_type": "code",
   "execution_count": null,
   "metadata": {},
   "outputs": [],
   "source": [
    "trace0 = go.Histogram(x = df_1.volume_gtv,\n",
    "                     histnorm='probability')\n",
    "\n",
    "data = [trace0]\n",
    "\n",
    "iplot({'data':data})"
   ]
  },
  {
   "cell_type": "code",
   "execution_count": null,
   "metadata": {},
   "outputs": [],
   "source": [
    "trace0 = go.Histogram(x = df_1.volume_gtv,\n",
    "                     histnorm='probability',\n",
    "                     xbins ={'start':df_1.volume_gtv.min(),\n",
    "                            'end':df_1.volume_gtv.max(),\n",
    "                            'size':40})\n",
    "\n",
    "data = [trace0]\n",
    "\n",
    "iplot({'data':data})"
   ]
  },
  {
   "cell_type": "code",
   "execution_count": null,
   "metadata": {},
   "outputs": [],
   "source": [
    "df_SD  = df_1[(df_1.arm==1)]\n",
    "df_SDT = df_1[(df_1.arm==3)]\n",
    "df_HD  = df_1[(df_1.arm==2)]\n",
    "df_HDT = df_1[(df_1.arm==4)]"
   ]
  },
  {
   "cell_type": "code",
   "execution_count": null,
   "metadata": {},
   "outputs": [],
   "source": [
    "df_SD.shape"
   ]
  },
  {
   "cell_type": "code",
   "execution_count": null,
   "metadata": {},
   "outputs": [],
   "source": [
    "trace0 = go.Histogram(x = df_SD.volume_gtv,\n",
    "                     histnorm='probability')\n",
    "\n",
    "trace1 = go.Histogram(x = df_HD.volume_gtv,\n",
    "                     histnorm='probability',\n",
    "                     opacity=0.6)\n",
    "\n",
    "layout = {'title':'GTV volumes in high dose versus standard dose gropus',\n",
    "         'xaxis':{'title':'GTV Volume',\n",
    "                 'zeroline':False},\n",
    "         'yaxis':{'title':'Count',\n",
    "                 'zeroline':False},\n",
    "          'barmode':'overlay'\n",
    "         }\n",
    "\n",
    "\n",
    "data = [trace0,trace1]\n",
    "\n",
    "iplot({'data':data,'layout':layout})"
   ]
  },
  {
   "cell_type": "code",
   "execution_count": null,
   "metadata": {},
   "outputs": [],
   "source": [
    "trace0 = go.Histogram(x = df_SD.volume_gtv,\n",
    "                     histnorm='probability')\n",
    "\n",
    "trace1 = go.Histogram(x = df_HD.volume_gtv,\n",
    "                     histnorm='probability',\n",
    "                     opacity=0.6)\n",
    "\n",
    "layout = {'title':'GTV volumes in high dose versus standard dose gropus',\n",
    "         'xaxis':{'title':'GTV Volume',\n",
    "                 'zeroline':False},\n",
    "         'yaxis':{'title':'Count',\n",
    "                 'zeroline':False},\n",
    "          'barmode':'overlay'\n",
    "         }\n",
    "\n",
    "\n",
    "data = [trace0,trace1]\n",
    "\n",
    "iplot({'data':data,'layout':layout})"
   ]
  },
  {
   "cell_type": "code",
   "execution_count": null,
   "metadata": {},
   "outputs": [],
   "source": [
    "df.arm.unique().tolist()"
   ]
  },
  {
   "cell_type": "code",
   "execution_count": null,
   "metadata": {},
   "outputs": [],
   "source": [
    "np.sort(df.arm.unique()).tolist()"
   ]
  },
  {
   "cell_type": "code",
   "execution_count": null,
   "metadata": {},
   "outputs": [],
   "source": [
    "df.groupby('arm').age.mean()"
   ]
  },
  {
   "cell_type": "code",
   "execution_count": null,
   "metadata": {},
   "outputs": [],
   "source": [
    "df.groupby('arm').age.mean().tolist()"
   ]
  },
  {
   "cell_type": "code",
   "execution_count": null,
   "metadata": {},
   "outputs": [],
   "source": [
    "np.sort(df.rt_technique.unique()).tolist()"
   ]
  },
  {
   "cell_type": "code",
   "execution_count": null,
   "metadata": {},
   "outputs": [],
   "source": [
    "df.groupby('rt_technique').v30_heart.mean().tolist() # 1 = 3DCRT and 2 = IMRT "
   ]
  },
  {
   "cell_type": "code",
   "execution_count": null,
   "metadata": {},
   "outputs": [],
   "source": [
    "df.groupby('rt_technique').v60_esophagus.mean().tolist()"
   ]
  },
  {
   "cell_type": "code",
   "execution_count": null,
   "metadata": {},
   "outputs": [],
   "source": [
    "df.rt_technique.value_counts()"
   ]
  },
  {
   "cell_type": "code",
   "execution_count": null,
   "metadata": {},
   "outputs": [],
   "source": [
    "df_v60eso = df[df.v60_esophagus.notnull()]"
   ]
  },
  {
   "cell_type": "code",
   "execution_count": null,
   "metadata": {},
   "outputs": [],
   "source": [
    "result1 = df_v60eso.describe().transpose()"
   ]
  },
  {
   "cell_type": "code",
   "execution_count": null,
   "metadata": {},
   "outputs": [],
   "source": [
    "result1[13:14]"
   ]
  },
  {
   "cell_type": "code",
   "execution_count": null,
   "metadata": {},
   "outputs": [],
   "source": [
    "result1[35:51]"
   ]
  },
  {
   "cell_type": "code",
   "execution_count": null,
   "metadata": {},
   "outputs": [],
   "source": [
    "df_v60eso = df[(df.v60_esophagus.notnull())& (df.rt_technique.notnull())]"
   ]
  },
  {
   "cell_type": "code",
   "execution_count": null,
   "metadata": {},
   "outputs": [],
   "source": [
    "df_v60eso.notnull().transpose()[0]['rt_technique']"
   ]
  },
  {
   "cell_type": "code",
   "execution_count": null,
   "metadata": {},
   "outputs": [],
   "source": [
    "allcol = df.columns"
   ]
  },
  {
   "cell_type": "code",
   "execution_count": null,
   "metadata": {},
   "outputs": [],
   "source": [
    "col = df.columns[38:54]\n",
    "\n",
    "strNames = {}\n",
    "for num,var in enumerate(col):\n",
    "    strNames.update({num:var})"
   ]
  },
  {
   "cell_type": "code",
   "execution_count": null,
   "metadata": {},
   "outputs": [],
   "source": [
    "strNames"
   ]
  },
  {
   "cell_type": "code",
   "execution_count": null,
   "metadata": {},
   "outputs": [],
   "source": [
    "new_strNames = {}\n",
    "j = 38\n",
    "for i in range(0,len(strNames)):\n",
    "    new_strNames.update({strNames[i]:df[allcol[j]].notnull().tolist()})\n",
    "    j = j+1"
   ]
  },
  {
   "cell_type": "code",
   "execution_count": null,
   "metadata": {},
   "outputs": [],
   "source": [
    "new_strNames.keys()"
   ]
  },
  {
   "cell_type": "code",
   "execution_count": null,
   "metadata": {},
   "outputs": [],
   "source": []
  },
  {
   "cell_type": "code",
   "execution_count": null,
   "metadata": {},
   "outputs": [],
   "source": []
  },
  {
   "cell_type": "code",
   "execution_count": null,
   "metadata": {},
   "outputs": [],
   "source": []
  },
  {
   "cell_type": "code",
   "execution_count": null,
   "metadata": {},
   "outputs": [],
   "source": [
    "count = 0\n",
    "for num,bol in enumerate(bol_v95_ptv):\n",
    "    if bol == 0:\n",
    "        print(f'Case no {num} has value {bol}')\n",
    "        count = count+1\n",
    "if count>0:\n",
    "    print(f'Found {count} missing values for variable: \"v95_ptv\"')\n",
    "else:\n",
    "    print('No empty values found')"
   ]
  },
  {
   "cell_type": "markdown",
   "metadata": {},
   "source": [
    "# 18/04/2020"
   ]
  },
  {
   "cell_type": "code",
   "execution_count": null,
   "metadata": {},
   "outputs": [],
   "source": [
    "df.info()"
   ]
  },
  {
   "cell_type": "code",
   "execution_count": null,
   "metadata": {},
   "outputs": [],
   "source": [
    "fig = ff.create_distplot(hist_data =[df.age[df.age.notna().values].tolist()],\n",
    "                        group_labels = ['Age'])\n",
    "fig['layout'].update(title=\"Age Distribution\",showlegend=False)\n",
    "iplot(fig)"
   ]
  },
  {
   "cell_type": "code",
   "execution_count": null,
   "metadata": {},
   "outputs": [],
   "source": [
    "df.age[df['age'].notna()].describe() # to check missing values"
   ]
  },
  {
   "cell_type": "code",
   "execution_count": null,
   "metadata": {},
   "outputs": [],
   "source": [
    "v95 = []\n",
    "for values in df.v95_ptv[df['v95_ptv'].notnull()].values.tolist():\n",
    "    if values !=0:\n",
    "        v95.append(values)"
   ]
  },
  {
   "cell_type": "code",
   "execution_count": null,
   "metadata": {},
   "outputs": [],
   "source": [
    "fig = ff.create_distplot(hist_data =[v95],\n",
    "                        group_labels = ['V95'])\n",
    "fig['layout'].update(title=\"V95 Distribution\",showlegend=False)\n",
    "iplot(fig)"
   ]
  },
  {
   "cell_type": "code",
   "execution_count": null,
   "metadata": {},
   "outputs": [],
   "source": [
    "df.columns"
   ]
  },
  {
   "cell_type": "code",
   "execution_count": null,
   "metadata": {},
   "outputs": [],
   "source": [
    "df_egfr = df[['age','egfr_hscore_200','volume_gtv','volume_itv', 'volume_ptv', 'dmax_ptv', \n",
    "              'v100_ptv', 'v95_ptv','v5_lung', 'v20_lung', 'dmean_lung', \n",
    "              'v5_heart', 'v30_heart','v20_esophagus', 'v60_esophagus', \n",
    "              'Dmin_PTV_CTV_MARGIN','Dmax_PTV_CTV_MARGIN',\n",
    "              'Dmean_PTV_CTV_MARGIN',]][df.has_egfr_hscore==1]"
   ]
  },
  {
   "cell_type": "code",
   "execution_count": null,
   "metadata": {},
   "outputs": [],
   "source": [
    "df_egfr.drop(axis=1,columns=['volume_itv','volume_gtv','Dmin_PTV_CTV_MARGIN',\n",
    "                             'Dmax_PTV_CTV_MARGIN','Dmean_PTV_CTV_MARGIN'],\n",
    "            inplace=True)"
   ]
  },
  {
   "cell_type": "code",
   "execution_count": null,
   "metadata": {},
   "outputs": [],
   "source": [
    "df_egfr.dropna(axis=0,how='any',inplace=True)"
   ]
  },
  {
   "cell_type": "code",
   "execution_count": null,
   "metadata": {},
   "outputs": [],
   "source": [
    "col = [df_egfr.columns]\n",
    "col = col[0]"
   ]
  },
  {
   "cell_type": "markdown",
   "metadata": {},
   "source": [
    "# Distribution plots for all continous variables in the selected dataframe"
   ]
  },
  {
   "cell_type": "code",
   "execution_count": null,
   "metadata": {
    "scrolled": false
   },
   "outputs": [],
   "source": [
    "for i in range(0,len(col)):\n",
    "    if col[i] != 'egfr_hscore_200':\n",
    "        fig = ff.create_distplot(hist_data =[df_egfr[col[i]][df_egfr['egfr_hscore_200']==1].tolist(),\n",
    "                                    df_egfr[col[i]][df_egfr['egfr_hscore_200']==2].tolist(),\n",
    "                                    df_egfr[col[i]].tolist()],\n",
    "                        group_labels = ['EGFR positive '+col[i],\n",
    "                                        'EGFR negative '+col[i],\n",
    "                                        'Whole Group '+col[i]])\n",
    "\n",
    "        fig['layout'].update(title = col[i]+\" Distribution\",showlegend=True)\n",
    "        iplot(fig)"
   ]
  },
  {
   "cell_type": "markdown",
   "metadata": {},
   "source": [
    "# QQ Plot to check normalcy"
   ]
  },
  {
   "cell_type": "code",
   "execution_count": null,
   "metadata": {},
   "outputs": [],
   "source": [
    "for i in range(0,len(col)):\n",
    "    if col[i] != 'egfr_hscore_200':\n",
    "        plt.figure(figsize=(8,6))\n",
    "        sp.stats.probplot(df_egfr[col[i]].tolist(), dist = 'norm', plot = plt,rvalue=True)\n",
    "        plt.title('QQ plot for ' + col[i])"
   ]
  },
  {
   "cell_type": "markdown",
   "metadata": {},
   "source": [
    "# Shapiro–Wilk test\n",
    "\n",
    "    1. The Shapiro–Wilk test tests the null hypothesis that a sample x1, ..., xn came from a normally distributed population\n",
    "    2. if pvalue > 0.05 then we can not reject null hypothesis  and thus sample comes from normally distributed population)"
   ]
  },
  {
   "cell_type": "code",
   "execution_count": null,
   "metadata": {},
   "outputs": [],
   "source": [
    "# Collecting stats for all the variables Whole group\n",
    "Results_Shapiro = []\n",
    "for i in range(0,len(col)):\n",
    "    if col[i] != 'egfr_hscore_200':\n",
    "        s_st = sp.stats.shapiro(df_egfr[col[i]])\n",
    "        s_st = list(s_st)\n",
    "        s_st.append(col[i]+' Whole Group')\n",
    "        Results_Shapiro.append(s_st)\n",
    "        del s_st"
   ]
  },
  {
   "cell_type": "code",
   "execution_count": null,
   "metadata": {},
   "outputs": [],
   "source": [
    "# displaying all the variables who have normal and not normal distribution\n",
    "for i in range(0,len(Results_Shapiro)):\n",
    "    if Results_Shapiro[i][1] > 0.05:\n",
    "        print(f'\\n\\t{Results_Shapiro[i][2]} has a normal distribution.(p value {Results_Shapiro[i][1]})\\n')\n",
    "    else:\n",
    "        print(f'{Results_Shapiro[i][2]} does not have a normal distribution.(p value {Results_Shapiro[i][1]})')"
   ]
  },
  {
   "cell_type": "code",
   "execution_count": null,
   "metadata": {},
   "outputs": [],
   "source": [
    "# Collecting stats for all the variables EGFR +ve group\n",
    "Results_Shapiro = []\n",
    "for i in range(0,len(col)):\n",
    "    if col[i] != 'egfr_hscore_200':\n",
    "        s_st = sp.stats.shapiro(df_egfr[col[i]][df_egfr.egfr_hscore_200 == 1])\n",
    "        s_st = list(s_st)\n",
    "        s_st.append(col[i]+' in EGFR+ Group')\n",
    "        Results_Shapiro.append(s_st)\n",
    "        del s_st"
   ]
  },
  {
   "cell_type": "code",
   "execution_count": null,
   "metadata": {},
   "outputs": [],
   "source": [
    "# displaying all the variables who have normal and not normal distribution\n",
    "for i in range(0,len(Results_Shapiro)):\n",
    "    if Results_Shapiro[i][1] > 0.05:\n",
    "        print(f'\\n\\t{Results_Shapiro[i][2]} has a normal distribution.(p value {Results_Shapiro[i][1]}\\n)')\n",
    "    else:\n",
    "        print(f'{Results_Shapiro[i][2]} does not have a normal distribution.(p value {Results_Shapiro[i][1]})')"
   ]
  },
  {
   "cell_type": "code",
   "execution_count": null,
   "metadata": {},
   "outputs": [],
   "source": [
    "#Collecting stats for all the variables EGFR -ve group\n",
    "Results_Shapiro = []\n",
    "for i in range(0,len(col)):\n",
    "    if col[i] != 'egfr_hscore_200':\n",
    "        s_st = sp.stats.shapiro(df_egfr[col[i]][df_egfr.egfr_hscore_200 == 1])\n",
    "        s_st = list(s_st)\n",
    "        s_st.append(col[i]+' in EGFR- Group')\n",
    "        Results_Shapiro.append(s_st)\n",
    "        del s_st"
   ]
  },
  {
   "cell_type": "code",
   "execution_count": null,
   "metadata": {},
   "outputs": [],
   "source": [
    "# displaying all the variables who have normal and not normal distribution\n",
    "for i in range(0,len(Results_Shapiro)):\n",
    "    if Results_Shapiro[i][1] > 0.05:\n",
    "        print(f'\\n\\t{Results_Shapiro[i][2]} has a normal distribution.p value {Results_Shapiro[i][1]}\\n')\n",
    "    else:\n",
    "        print(f'{Results_Shapiro[i][2]} does not have a normal distribution.(p value {Results_Shapiro[i][1]})')"
   ]
  },
  {
   "cell_type": "markdown",
   "metadata": {},
   "source": [
    "# Levene's Test\n",
    "    Levene's test is an inferential statistic used to assess the equality of variances for a variable calculated for two or more groups. ... Levene's test assesses this assumption. It tests the null hypothesis that the population variances are equal (called homogeneity of variance or homoscedasticity)"
   ]
  },
  {
   "cell_type": "code",
   "execution_count": null,
   "metadata": {},
   "outputs": [],
   "source": [
    "#Collecting stats for all the variables \n",
    "Results_Levene = []\n",
    "for i in range(0,len(col)):\n",
    "    if col[i] != 'egfr_hscore_200':\n",
    "        l_st = sp.stats.levene(df_egfr[col[i]][df_egfr.egfr_hscore_200 == 1],\n",
    "                               df_egfr[col[i]][df_egfr.egfr_hscore_200 == 2])\n",
    "        l_st = list(l_st)\n",
    "        l_st.append(col[i])\n",
    "        Results_Levene.append(l_st)\n",
    "        del l_st"
   ]
  },
  {
   "cell_type": "code",
   "execution_count": null,
   "metadata": {},
   "outputs": [],
   "source": [
    "# displaying all the variables who have normal and not normal distribution\n",
    "for i in range(0,len(Results_Levene)):\n",
    "    if Results_Shapiro[i][1] > 0.05:\n",
    "        print(f'\\n\\t{Results_Levene[i][2]} : has a equal population varaince.(p value {Results_Shapiro[i][1]})\\n')\n",
    "    else:\n",
    "        print(f'{Results_Levene[i][2]} : does not have a equal population variance.(p value {Results_Shapiro[i][1]})')"
   ]
  },
  {
   "cell_type": "markdown",
   "metadata": {},
   "source": [
    "# Detecting Outliers"
   ]
  },
  {
   "cell_type": "code",
   "execution_count": null,
   "metadata": {},
   "outputs": [],
   "source": [
    "# Boxplot for detecting outliers\n",
    "Results_Shapiro = []\n",
    "for i in range(0,len(col)):\n",
    "    if col[i] != 'egfr_hscore_200':\n",
    "        trace0 = go.Box(y=df_egfr[col[i]][df_egfr.egfr_hscore_200 == 1],\n",
    "               name = \"EGFR+ve Group\",\n",
    "               boxpoints='outliers')\n",
    "        trace1 = go.Box(y=df_egfr[col[i]][df_egfr.egfr_hscore_200 == 2],\n",
    "               name = \"EGFR-ve Group\",\n",
    "               boxpoints='outliers')\n",
    "        layout = {'title':'Detecting Outliers for ' + col[i] + ' in both the groups',\n",
    "                 'xaxis':{'title':col[i],\n",
    "                 'zeroline':False},\n",
    "                 'yaxis':{'title':col[i] + ' Values',\n",
    "                 'zeroline':False}\n",
    "                 }\n",
    "        data = [trace0,trace1]\n",
    "        iplot({'data':data,'layout':layout})"
   ]
  },
  {
   "cell_type": "code",
   "execution_count": null,
   "metadata": {},
   "outputs": [],
   "source": [
    "# Standardizing values to find which are the outliers so that if required these cases can be dropped\n",
    "i=6\n",
    "val =  df_egfr[col[i]]\n",
    "mean = df_egfr[col[i]].mean()\n",
    "std =  df_egfr[col[i]].std()\n",
    "((val-mean)/std).sort_values()"
   ]
  },
  {
   "cell_type": "markdown",
   "metadata": {},
   "source": [
    "# Correlation"
   ]
  },
  {
   "cell_type": "code",
   "execution_count": null,
   "metadata": {},
   "outputs": [],
   "source": [
    "#df.info()"
   ]
  },
  {
   "cell_type": "code",
   "execution_count": null,
   "metadata": {},
   "outputs": [],
   "source": [
    "colfull = list(df.columns)"
   ]
  },
  {
   "cell_type": "code",
   "execution_count": null,
   "metadata": {},
   "outputs": [],
   "source": [
    "age = df.age[df.age.notna()]\n",
    "rt_dose = df.rt_dose[df.rt_dose.notna()]\n",
    "volume_ptv = df.volume_ptv[df.volume_ptv.notna()]\n",
    "dmax_ptv = df.dmax_ptv[df.dmax_ptv.notna()]\n",
    "v95_ptv  = df.v95_ptv [df.v95_ptv.notna()]\n",
    "v5_lung = df.v5_lung[df.v5_lung.notna()]\n",
    "v20_lung = df.v20_lung[df.v20_lung.notna()]\n",
    "dmean_lung = df.dmean_lung[df.dmean_lung.notna()]\n",
    "v5_heart = df.v5_heart[df.v5_heart.notna()]\n",
    "v30_heart = df.v30_heart[df.v30_heart.notna()]\n",
    "v20_esophagus = df.v20_esophagus[df.v20_esophagus.notna()]\n",
    "v60_esophagus = df.v60_esophagus[df.v60_esophagus.notna()]\n",
    "Dmean_PTV_CTV_MARGIN = df.Dmean_PTV_CTV_MARGIN[df.Dmean_PTV_CTV_MARGIN.notna()]\n",
    "survival_months = df.survival_months[df.survival_months.notna()]"
   ]
  },
  {
   "cell_type": "code",
   "execution_count": null,
   "metadata": {},
   "outputs": [],
   "source": [
    "trace0 = go.Scatter(x=survival_months,\n",
    "                    y=dmean_lung,\n",
    "                    mode='markers',\n",
    "                    marker = dict(size=12,color='rgb(255,70,0,0.9)'))\n",
    "data = [trace0]\n",
    "layout = {'title':'Correlation between PTV volumes and Lung doses V5Gy ',\n",
    "         'xaxis':{'title':'PTV volume','zeroline':False},\n",
    "         'yaxis':{'title':'Lung doses V5Gy','zeroline':False}\n",
    "         }\n",
    "iplot({'data':data,'layout':layout})"
   ]
  },
  {
   "cell_type": "markdown",
   "metadata": {},
   "source": [
    "     7   age                               495 non-null    float64\n",
    "     22  rt_dose                           482 non-null    float64\n",
    "     40  volume_ptv                        474 non-null    float64\n",
    "     41  dmax_ptv                          474 non-null    float64\n",
    "     42  v100_ptv                          474 non-null    float64\n",
    "     43  v95_ptv                           474 non-null    float64\n",
    "     44  v5_lung                           474 non-null    float64\n",
    "     45  v20_lung                          474 non-null    float64\n",
    "     46  dmean_lung                        474 non-null    float64\n",
    "     47  v5_heart                          472 non-null    float64\n",
    "     48  v30_heart                         472 non-null    float64\n",
    "     49  v20_esophagus                     471 non-null    float64\n",
    "     50  v60_esophagus                     471 non-null    float64\n",
    "     51  Dmin_PTV_CTV_MARGIN               448 non-null    float64\n",
    "     52  Dmax_PTV_CTV_MARGIN               448 non-null    float64\n",
    "     53  Dmean_PTV_CTV_MARGIN              448 non-null    float64\n",
    "     79  survival_months                   495 non-null    float64"
   ]
  },
  {
   "cell_type": "code",
   "execution_count": null,
   "metadata": {},
   "outputs": [],
   "source": [
    "stats.pearsonr(volume_ptv,dmean_lung)"
   ]
  },
  {
   "cell_type": "code",
   "execution_count": null,
   "metadata": {},
   "outputs": [],
   "source": [
    "stats.linregress(volume_ptv,dmean_lung)"
   ]
  },
  {
   "cell_type": "markdown",
   "metadata": {},
   "source": [
    "$$ y = -0.009x + 97.467 $$"
   ]
  },
  {
   "cell_type": "code",
   "execution_count": null,
   "metadata": {},
   "outputs": [],
   "source": [
    "trace0 = go.Scatter(x=volume_ptv,\n",
    "                    y=v20_lung,\n",
    "                    name = \"Data\",\n",
    "                    mode='markers',\n",
    "                    marker = dict(size=12,color='rgb(255,70,0,0.9)'))\n",
    "trace1 = go.Scatter(x=np.linspace(0,volume_ptv.max(),len(df)),\n",
    "                  y = (0.005) * np.linspace(0,volume_ptv.max(),len(df)) + 26.862,\n",
    "                   name='Regression Line',\n",
    "                   mode = 'lines')\n",
    "data = [trace0,trace1]\n",
    "layout = {'title':'Correlation between PTV Volume and V95% Dose Coverage',\n",
    "         'xaxis':{'title':'PTV volume','zeroline':False},\n",
    "         'yaxis':{'title':'V95% Coverage','zeroline':False}\n",
    "         }\n",
    "iplot({'data':data,'layout':layout})"
   ]
  },
  {
   "cell_type": "code",
   "execution_count": null,
   "metadata": {},
   "outputs": [],
   "source": [
    "x = df[['v20_lung','v60_esophagus']][df['volume_ptv'].notna() & df['v20_lung'].notna() & df['v60_esophagus'].notna()]"
   ]
  },
  {
   "cell_type": "code",
   "execution_count": null,
   "metadata": {},
   "outputs": [],
   "source": [
    "x = sm.add_constant(x)\n",
    "x1 = x['v20_lung'].to_numpy()\n",
    "x2 = x['v60_esophagus'].to_numpy()"
   ]
  },
  {
   "cell_type": "code",
   "execution_count": null,
   "metadata": {},
   "outputs": [],
   "source": [
    "y = df.volume_ptv[df['volume_ptv'].notna() & df['v20_lung'].notna() & df['v60_esophagus'].notna()]"
   ]
  },
  {
   "cell_type": "code",
   "execution_count": null,
   "metadata": {},
   "outputs": [],
   "source": [
    "y"
   ]
  },
  {
   "cell_type": "code",
   "execution_count": null,
   "metadata": {},
   "outputs": [],
   "source": [
    "model = sm.OLS(y,x).fit()"
   ]
  },
  {
   "cell_type": "code",
   "execution_count": null,
   "metadata": {},
   "outputs": [],
   "source": [
    "print(model.summary())"
   ]
  },
  {
   "cell_type": "markdown",
   "metadata": {},
   "source": [
    "    x1 = v20_lung\n",
    "    x2 = v60_esophagus\n",
    "    y = volume_ptv\n",
    "$$y = 4.444*x1 + 2.45*x2 + 335.556$$"
   ]
  },
  {
   "cell_type": "markdown",
   "metadata": {},
   "source": [
    "# Linear Regression"
   ]
  },
  {
   "cell_type": "code",
   "execution_count": null,
   "metadata": {},
   "outputs": [],
   "source": [
    "stats.pearsonr(x1,y)"
   ]
  },
  {
   "cell_type": "code",
   "execution_count": null,
   "metadata": {},
   "outputs": [],
   "source": [
    "model=sm.OLS(y,x)\n",
    "result = model.fit()\n",
    "result.summary()"
   ]
  },
  {
   "cell_type": "code",
   "execution_count": null,
   "metadata": {},
   "outputs": [],
   "source": [
    "x.iloc[0]"
   ]
  },
  {
   "cell_type": "code",
   "execution_count": null,
   "metadata": {},
   "outputs": [],
   "source": [
    "y.iloc[0]"
   ]
  },
  {
   "cell_type": "markdown",
   "metadata": {},
   "source": [
    "$$v20lung*4.444 + v60esophagus*2.45 + 335.556$$"
   ]
  },
  {
   "cell_type": "code",
   "execution_count": null,
   "metadata": {},
   "outputs": [],
   "source": [
    "27.19*4.444 + 1.31*2.45 + 335.556"
   ]
  },
  {
   "cell_type": "code",
   "execution_count": null,
   "metadata": {},
   "outputs": [],
   "source": [
    "list(zip(np.round(result.predict(x)[0:5], 1), y[0:5]))"
   ]
  },
  {
   "cell_type": "markdown",
   "metadata": {},
   "source": [
    "# Comparing means --Parametric test"
   ]
  },
  {
   "cell_type": "code",
   "execution_count": null,
   "metadata": {},
   "outputs": [],
   "source": [
    "v20_lung.mean()"
   ]
  },
  {
   "cell_type": "code",
   "execution_count": null,
   "metadata": {},
   "outputs": [],
   "source": [
    "stats.ttest_1samp(v20_lung, 29.45) # one sample t test"
   ]
  },
  {
   "cell_type": "code",
   "execution_count": null,
   "metadata": {},
   "outputs": [],
   "source": [
    "col"
   ]
  },
  {
   "cell_type": "code",
   "execution_count": null,
   "metadata": {},
   "outputs": [],
   "source": [
    "i=12\n",
    "df_1 = df[df[col[i]].notna()]\n",
    "var1 = df_1[(df_1.arm == 1) | (df_1.arm == 3)][col[i]]\n",
    "var2 = df_1[(df.arm == 2) | (df_1.arm == 4 )][col[i]]\n",
    "print(col[i])"
   ]
  },
  {
   "cell_type": "code",
   "execution_count": null,
   "metadata": {},
   "outputs": [],
   "source": [
    "# student t test\n",
    "stats.ttest_ind(var1,var2)"
   ]
  },
  {
   "cell_type": "code",
   "execution_count": null,
   "metadata": {},
   "outputs": [],
   "source": [
    "var1.mean()"
   ]
  },
  {
   "cell_type": "code",
   "execution_count": null,
   "metadata": {},
   "outputs": [],
   "source": [
    "var2.mean()"
   ]
  },
  {
   "cell_type": "markdown",
   "metadata": {},
   "source": [
    "### Variables having significant difference in mean among high dose versus standard dose\n",
    "           v95_ptv, v20_lung, dmean_lung, v30_heart, v20_esophagus,v60_esophagus"
   ]
  },
  {
   "cell_type": "markdown",
   "metadata": {},
   "source": [
    "# Oneway Anova"
   ]
  },
  {
   "cell_type": "code",
   "execution_count": null,
   "metadata": {},
   "outputs": [],
   "source": [
    "i=10\n",
    "df_1 = df[df[col[i]].notna()]\n",
    "var1 = df_1[(df_1.arm == 1)][col[i]]\n",
    "var2 = df_1[(df.arm == 2)][col[i]]\n",
    "var3 = df_1[(df_1.arm == 3)][col[i]]\n",
    "var4 = df_1[(df.arm == 4)][col[i]]\n",
    "print(col[i])"
   ]
  },
  {
   "cell_type": "code",
   "execution_count": null,
   "metadata": {},
   "outputs": [],
   "source": [
    "stats.f_oneway(var1,var2,var3,var4)"
   ]
  },
  {
   "cell_type": "markdown",
   "metadata": {},
   "source": [
    "# Comparing Categorical variables"
   ]
  },
  {
   "cell_type": "code",
   "execution_count": null,
   "metadata": {},
   "outputs": [],
   "source": [
    "pd.crosstab(df.arm,df.rt_compliance_ptv90)"
   ]
  },
  {
   "cell_type": "code",
   "execution_count": null,
   "metadata": {},
   "outputs": [],
   "source": [
    "stats.chi2_contingency(pd.crosstab(df.arm,df.rt_compliance_ptv90))"
   ]
  },
  {
   "cell_type": "code",
   "execution_count": null,
   "metadata": {},
   "outputs": [],
   "source": []
  }
 ],
 "metadata": {
  "kernelspec": {
   "display_name": "Python 3",
   "language": "python",
   "name": "python3"
  },
  "language_info": {
   "codemirror_mode": {
    "name": "ipython",
    "version": 3
   },
   "file_extension": ".py",
   "mimetype": "text/x-python",
   "name": "python",
   "nbconvert_exporter": "python",
   "pygments_lexer": "ipython3",
   "version": "3.7.1"
  }
 },
 "nbformat": 4,
 "nbformat_minor": 4
}
