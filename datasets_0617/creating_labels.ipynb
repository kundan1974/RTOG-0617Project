{
 "cells": [
  {
   "cell_type": "code",
   "execution_count": null,
   "metadata": {},
   "outputs": [],
   "source": [
    "import pandas as pd\n",
    "import datetime\n",
    "import matplotlib.pyplot as plt\n",
    "import seaborn as sns\n",
    "import shutil\n",
    "import os"
   ]
  },
  {
   "cell_type": "markdown",
   "metadata": {},
   "source": [
    "# Variable\n",
    "### analysis_inclusion \n",
    "0=Excluded, 1=Included\n",
    "### age\n",
    "Age at study entry (years)\n",
    "### gender \n",
    "1=Male 2=Female\n",
    "### ethnicity \n",
    "1=Hispanic or Latino 2=Not Hispanic or Latino 9=Unknown\n",
    "### Assigned treatment arm\n",
    "1=60 Gy, no cetuximab\n",
    "2=74 Gy, no cetuximab\n",
    "3=60 Gy + cetuximab\n",
    "4=74 Gy + cetuximab\n",
    "Note: Analyses of 60 Gy vs 74 Gy compare arms 1+3 vs 2+4. Analyses of Cetuximab vs No cetuximab compare arms 1+2 vs 3+4.\n",
    "### race\n",
    "1=American Indian/Alaskan Native 2=Asian 3=Black or African American 4=Native Hawaiian/Other Pacific Islander\n",
    "5=White 9=Unknown\n",
    "### zubrod\n",
    "0=Normal activity 1=Symptoms, but nearly fully ambulatory\n",
    "### histology\n",
    "1=Squamous cell carcinoma 2=Adenocarcinoma 3=Large cell undifferentiated 5=Non-small cell lung cancer NOS\n",
    "### nonsquam_squam\n",
    "1=Non-squamous histology 2=Squamous histology\n",
    "### ajcc_stage_grp\n",
    "1=IIIA, or N2 with an undetectable primary\n",
    "2=IIIB, or N3 with an undetectable primary\n",
    "### pet_staging\n",
    "1=No use of PET in staging 2=PET used in staging\n",
    "### rt_technique\n",
    "1=3D-CRT\n",
    "2=IMRT\n",
    "### has_egfr_hscore\n",
    "0=No H-Score (no tissue, insufficient tissue)\n",
    "1=H-Score able to be determined\n",
    "### egfr_hscore_200\n",
    "1=H-Score < 200\n",
    "2=H-Score ≥ 200\n",
    "Note: Blank for patients with has_egfr_hscore = 0\n",
    "### smoke_hx\n",
    "1=Non-smoker (<100 cigarettes in lifetime)\n",
    "2=Former light smoker (≤10 pack years and quit ≥1 year ago)\n",
    "3=Former heavy smoker (>10 pack years)\n",
    "4=Current smoker (quit <1 year ago or currently smoke)\n",
    "9=Unknown\n",
    "### rt_dose\n",
    "1=Received assigned dose (60 Gy/74 Gy)\n",
    "2=Received less than assigned dose 3=Received more than assigned dose Note: Blank for patients not receiving RT\n",
    "### overall_rt_review\n",
    "1=Per protocol\n",
    "2=Acceptable variation 3=Unacceptable deviation 5=Incomplete RT – Death during RT 6=Incomplete RT – Progression 7=Incomplete RT – Refusal\n",
    "8=No RT given\n",
    "9=Not evaluable\n",
    "### ptv_review\n",
    "1=Per protocol\n",
    "2=Acceptable variation 3=Unacceptable deviation\n",
    "9=Not evaluable\n",
    "Note: Blank indicates missing due to lack of contour to review\n",
    "### Dmin_PTV_CTV_MARGIN\n",
    "Minimum margin between PTV and CTV (mm) \n",
    "### Dmax_PTV_CTV_MARGIN\n",
    "Maximum margin between PTV and CTV (mm)\n",
    "### Dmean_PTV_CTV_MARGIN\n",
    "Mean margin between PTV and CTV (mm)\n",
    "### rt_compliance_ptv90\n",
    "0= <90% of PTV covered by at least 95% of prescription dose\n",
    "1= ≥90% of PTV covered by at least 95% of prescription dose\n",
    "### grade3_esophagitis\n",
    "0=Grade 3+ esophagitis not reported \n",
    "1=Grade 3+ esophagitis reported\n",
    "### survival_status\n",
    "0=Alive 1=Dead\n",
    "Time since randomization to death/last follow-up (months)\n",
    "### cod\n",
    "1=Lung cancer under study 2=Second primary 3=Protocol treatment 4=Other cause 9=Unknown\n",
    "Note: This will be blank for patients who are alive.\n",
    "### local_failure\n",
    "0=Alive at last follow-up without report of local failure at any time\n",
    "1=Local failure\n",
    "2=Dead without report of local failure at any time\n",
    "Time since randomization to local failure/date of death or last-follow-up if no failure (months)\n",
    "### distant_failure\n",
    "0=Alive at last follow-up without report of distant failure at any time\n",
    "1=Distant failure\n",
    "2=Dead without report of distant failure at any time\n",
    "Time since randomization to distant failure/date of death or last-follow-up if no failure (months)\n",
    "### progression_free_survival\n",
    "0=Alive without progression 1=Progressed or death due to any cause\n",
    "Time since randomization to progression or date of death, or date of last- follow-up if alive without progression (months)\n",
    "### lost_to_followup\n",
    "0=Not lost to follow-up 1=Lost to follow-up"
   ]
  },
  {
   "cell_type": "code",
   "execution_count": null,
   "metadata": {},
   "outputs": [],
   "source": [
    "df = pd.read_csv(\"NCT00533949-D1-Dataset.csv\") # reading the main data"
   ]
  },
  {
   "cell_type": "code",
   "execution_count": null,
   "metadata": {},
   "outputs": [],
   "source": [
    "# Selecting patients only who were included in the study\n",
    "df = df[df['analysis_inclusion'] > 0]"
   ]
  },
  {
   "cell_type": "code",
   "execution_count": null,
   "metadata": {},
   "outputs": [],
   "source": [
    "# renaming ID as per numpy images\n",
    "ID = []\n",
    "for value in df['patid'].values:\n",
    "    ID.append(value[5:]+\".npy\")"
   ]
  },
  {
   "cell_type": "code",
   "execution_count": null,
   "metadata": {},
   "outputs": [],
   "source": [
    "df['ID'] = ID"
   ]
  },
  {
   "cell_type": "code",
   "execution_count": null,
   "metadata": {},
   "outputs": [],
   "source": [
    "# selecting IDs of all alive patient \n",
    "alive = df.loc[:,['ID']][(df['survival_status']==0)]\n",
    "alive = alive['ID'].values"
   ]
  },
  {
   "cell_type": "code",
   "execution_count": null,
   "metadata": {},
   "outputs": [],
   "source": [
    "# selecting IDs of all dead patient\n",
    "dead = df.loc[:,['ID']][df['survival_status']==1]\n",
    "dead = dead['ID'].values"
   ]
  },
  {
   "cell_type": "code",
   "execution_count": null,
   "metadata": {},
   "outputs": [],
   "source": [
    "filenames = os.listdir('../crop128x128x128/')"
   ]
  },
  {
   "cell_type": "code",
   "execution_count": null,
   "metadata": {},
   "outputs": [],
   "source": [
    "# moving alive patients to alive folder\n",
    "for file in filenames:\n",
    "    for i in range(0,len(alive)):\n",
    "        if file == alive[i]:\n",
    "            print(f'Alive patient:{file}')\n",
    "            src1 = os.path.join('/Users/chufal/Desktop/crop128x128x128/',file)\n",
    "            dst1 = ('/Users/chufal/Desktop/crop128x128x128/alive')\n",
    "            shutil.move(src1,dst1)"
   ]
  },
  {
   "cell_type": "code",
   "execution_count": null,
   "metadata": {},
   "outputs": [],
   "source": [
    "# moving dead patient to dead folder\n",
    "for file in filenames:\n",
    "    for j in range(0,len(dead)):\n",
    "        if file == dead[j]:\n",
    "            print(f'Dead patient:{file}')\n",
    "            src2 = os.path.join('/Users/chufal/Desktop/crop128x128x128/',file)\n",
    "            dst2 = ('/Users/chufal/Desktop/crop128x128x128/dead')\n",
    "            shutil.move(src2,dst2)"
   ]
  },
  {
   "cell_type": "code",
   "execution_count": null,
   "metadata": {},
   "outputs": [],
   "source": []
  },
  {
   "cell_type": "code",
   "execution_count": null,
   "metadata": {},
   "outputs": [],
   "source": []
  },
  {
   "cell_type": "code",
   "execution_count": null,
   "metadata": {},
   "outputs": [],
   "source": []
  },
  {
   "cell_type": "code",
   "execution_count": null,
   "metadata": {},
   "outputs": [],
   "source": []
  },
  {
   "cell_type": "code",
   "execution_count": null,
   "metadata": {},
   "outputs": [],
   "source": []
  },
  {
   "cell_type": "code",
   "execution_count": null,
   "metadata": {},
   "outputs": [],
   "source": []
  },
  {
   "cell_type": "code",
   "execution_count": null,
   "metadata": {},
   "outputs": [],
   "source": [
    "# Selecting the variables and forming a new dataframe\n",
    "rtogData = df.loc[:,['patid','arm','analysis_inclusion','survival_status','survival_months',\n",
    "                     'local_failure','local_failure_months','distant_failure','distant_failure_months',\n",
    "                     'progression_free_survival','progression_free_survival_months']] "
   ]
  },
  {
   "cell_type": "code",
   "execution_count": null,
   "metadata": {},
   "outputs": [],
   "source": [
    "# Selecting patients only who were included in the study\n",
    "rtog_included_data = rtogData[rtogData['analysis_inclusion'] > 0]"
   ]
  },
  {
   "cell_type": "code",
   "execution_count": null,
   "metadata": {},
   "outputs": [],
   "source": [
    "# dropping the unwanted columns\n",
    "rtog_included_data.drop('analysis_inclusion',axis=1,inplace=True)"
   ]
  },
  {
   "cell_type": "code",
   "execution_count": null,
   "metadata": {},
   "outputs": [],
   "source": [
    "# Reviewing information for new dataframe\n",
    "rtog_included_data.info()"
   ]
  },
  {
   "cell_type": "code",
   "execution_count": null,
   "metadata": {},
   "outputs": [],
   "source": [
    "# saving newly formed dataframe as an csv file in the current working directory\n",
    "#rtog_included_data.to_csv('rtog4labels.csv')"
   ]
  },
  {
   "cell_type": "code",
   "execution_count": null,
   "metadata": {},
   "outputs": [],
   "source": [
    "# selecting patient with survival data of more than 18 months\n",
    "rtog_18months = rtog_included_data[rtog_included_data['survival_months'] > 17.99999]"
   ]
  },
  {
   "cell_type": "code",
   "execution_count": null,
   "metadata": {},
   "outputs": [],
   "source": [
    "#testdf = rtog_2year[(rtog_2year['arm'] == 2) | (rtog_2year['arm'] == 4)] #74Gy is arm 2 and 4"
   ]
  },
  {
   "cell_type": "code",
   "execution_count": null,
   "metadata": {},
   "outputs": [],
   "source": [
    "#testdf.info()"
   ]
  },
  {
   "cell_type": "code",
   "execution_count": null,
   "metadata": {},
   "outputs": [],
   "source": [
    "#testdf['egfr_hscore_200'].value_counts()"
   ]
  },
  {
   "cell_type": "code",
   "execution_count": null,
   "metadata": {},
   "outputs": [],
   "source": [
    "#df['egfr_hscore_200'].value_counts()"
   ]
  },
  {
   "cell_type": "code",
   "execution_count": null,
   "metadata": {},
   "outputs": [],
   "source": [
    "rtog_18months.info()"
   ]
  },
  {
   "cell_type": "code",
   "execution_count": null,
   "metadata": {},
   "outputs": [],
   "source": [
    "# renaming ID as per numpy images\n",
    "ID = []\n",
    "for value in rtog_18months['patid'].values:\n",
    "    ID.append(value[5:]+\".npy\")"
   ]
  },
  {
   "cell_type": "code",
   "execution_count": null,
   "metadata": {},
   "outputs": [],
   "source": [
    "rtog_18months['ID'] = ID"
   ]
  },
  {
   "cell_type": "code",
   "execution_count": null,
   "metadata": {},
   "outputs": [],
   "source": [
    "rtog_18months.info()"
   ]
  },
  {
   "cell_type": "markdown",
   "metadata": {},
   "source": [
    "# Patient with minimum survival of 18 months"
   ]
  },
  {
   "cell_type": "code",
   "execution_count": null,
   "metadata": {},
   "outputs": [],
   "source": [
    "# selecting IDs of all alive patient \n",
    "alive_patient = rtog_18months.loc[:,['ID']][(rtog_18months['survival_status']==0)]"
   ]
  },
  {
   "cell_type": "code",
   "execution_count": null,
   "metadata": {},
   "outputs": [],
   "source": [
    "# selecting IDs of all dead patient\n",
    "dead_patient = rtog_18months.loc[:,['ID']][rtog_18months['survival_status']==1]"
   ]
  },
  {
   "cell_type": "code",
   "execution_count": null,
   "metadata": {},
   "outputs": [],
   "source": [
    "# Selecting IDs of all alive patient in high dose group\n",
    "H_dose = rtog_18months[(rtog_18months['arm'] == 2) | (rtog_18months['arm'] == 4)] #74Gy is arm 2 and 4\n",
    "alive4HD =  H_dose.loc[:,['ID']][(H_dose['survival_status']==0)]"
   ]
  },
  {
   "cell_type": "code",
   "execution_count": null,
   "metadata": {},
   "outputs": [],
   "source": [
    "# Selecting IDs of all dead patient in high dose group\n",
    "H_dose = rtog_18months[(rtog_18months['arm'] == 2) | (rtog_18months['arm'] == 4)] #74Gy is arm 2 and 4\n",
    "dead4HD =  H_dose.loc[:,['ID']][(H_dose['survival_status']==1)]"
   ]
  },
  {
   "cell_type": "code",
   "execution_count": null,
   "metadata": {},
   "outputs": [],
   "source": [
    "# Selecting IDs of all alive patient in standard dose group\n",
    "S_dose = rtog_18months[(rtog_18months['arm'] == 1) | (rtog_18months['arm'] == 3)] #60Gy is arm 1 and 3\n",
    "alive4SD =  S_dose.loc[:,['ID']][(S_dose['survival_status']==0)]"
   ]
  },
  {
   "cell_type": "code",
   "execution_count": null,
   "metadata": {},
   "outputs": [],
   "source": [
    "# Selecting IDs of all dead patient in standard dose group\n",
    "S_dose = rtog_18months[(rtog_18months['arm'] == 1) | (rtog_18months['arm'] == 3)] #60Gy is arm 1 and 3\n",
    "dead4SD =  S_dose.loc[:,['ID']][(S_dose['survival_status']==1)]"
   ]
  },
  {
   "cell_type": "code",
   "execution_count": null,
   "metadata": {},
   "outputs": [],
   "source": [
    "dead_patient = list(dead_patient['ID'].values) # IDs of dead patients (all group 1,2,3,4)"
   ]
  },
  {
   "cell_type": "code",
   "execution_count": null,
   "metadata": {},
   "outputs": [],
   "source": [
    "alive_patient = list(alive_patient['ID'].values) # IDs of alive patient (all group 1,2,3,4)"
   ]
  },
  {
   "cell_type": "code",
   "execution_count": null,
   "metadata": {},
   "outputs": [],
   "source": [
    "alive4HD = alive4HD['ID'].values # IDs of alive patient in High Dose group"
   ]
  },
  {
   "cell_type": "code",
   "execution_count": null,
   "metadata": {},
   "outputs": [],
   "source": [
    "dead4HD = dead4HD['ID'].values # IDs of dead patient in High Dose Group"
   ]
  },
  {
   "cell_type": "code",
   "execution_count": null,
   "metadata": {},
   "outputs": [],
   "source": [
    "alive4SD = alive4SD['ID'].values # IDs of alive patient in Standard Dose Group"
   ]
  },
  {
   "cell_type": "code",
   "execution_count": null,
   "metadata": {},
   "outputs": [],
   "source": [
    "dead4SD = dead4SD['ID'].values # IDs of dead patient in Standard Dose Group "
   ]
  },
  {
   "cell_type": "code",
   "execution_count": null,
   "metadata": {},
   "outputs": [],
   "source": [
    "print(f'All Group Alive Patient: {len(alive_patient)}, All Group Dead Patient: {len(dead_patient)}')"
   ]
  },
  {
   "cell_type": "code",
   "execution_count": null,
   "metadata": {},
   "outputs": [],
   "source": [
    "print(f'High Dose Group Alive Patient: {len(alive4HD)}, High Dose Group Dead Patient: {len(dead4HD)}')"
   ]
  },
  {
   "cell_type": "code",
   "execution_count": null,
   "metadata": {},
   "outputs": [],
   "source": [
    "print(f'Standard Dose Group Alive Patient: {len(alive4SD)}, Standard Dose Group Dead Patient: {len(dead4SD)}')"
   ]
  },
  {
   "cell_type": "code",
   "execution_count": null,
   "metadata": {},
   "outputs": [],
   "source": [
    "filenames = os.listdir('../cropped_64X64X64')"
   ]
  },
  {
   "cell_type": "code",
   "execution_count": null,
   "metadata": {},
   "outputs": [],
   "source": [
    "# moving alive patients to alive folder\n",
    "for file in filenames:\n",
    "    for i in range(0,len(alive_patient)):\n",
    "        if file == alive_patient[i]:\n",
    "            print(f'Alive patient:{file}')\n",
    "            src1 = os.path.join('/Users/chufal/Desktop/cropped_64X64X64/',file)\n",
    "            dst1 = ('/Users/chufal/Desktop/cropped_64X64X64/alive')\n",
    "            shutil.move(src1,dst1)"
   ]
  },
  {
   "cell_type": "code",
   "execution_count": null,
   "metadata": {},
   "outputs": [],
   "source": [
    "# moving dead patient to dead folder\n",
    "for file in filenames:\n",
    "    for j in range(0,len(dead_patient)):\n",
    "        if file == dead_patient[j]:\n",
    "            print(f'Dead patient:{file}')\n",
    "            src2 = os.path.join('/Users/chufal/Desktop/cropped_64X64X64/',file)\n",
    "            dst2 = ('/Users/chufal/Desktop/cropped_64X64X64/dead')\n",
    "            shutil.move(src2,dst2)"
   ]
  },
  {
   "cell_type": "code",
   "execution_count": null,
   "metadata": {},
   "outputs": [],
   "source": []
  },
  {
   "cell_type": "code",
   "execution_count": null,
   "metadata": {},
   "outputs": [],
   "source": []
  },
  {
   "cell_type": "code",
   "execution_count": null,
   "metadata": {},
   "outputs": [],
   "source": []
  }
 ],
 "metadata": {
  "kernelspec": {
   "display_name": "Python 3",
   "language": "python",
   "name": "python3"
  },
  "language_info": {
   "codemirror_mode": {
    "name": "ipython",
    "version": 3
   },
   "file_extension": ".py",
   "mimetype": "text/x-python",
   "name": "python",
   "nbconvert_exporter": "python",
   "pygments_lexer": "ipython3",
   "version": "3.7.6"
  }
 },
 "nbformat": 4,
 "nbformat_minor": 4
}
